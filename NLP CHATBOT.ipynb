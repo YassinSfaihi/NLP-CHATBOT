{
 "cells": [
  {
   "cell_type": "code",
   "execution_count": 1,
   "id": "9920d129",
   "metadata": {},
   "outputs": [
    {
     "name": "stdout",
     "output_type": "stream",
     "text": [
      "showing info https://raw.githubusercontent.com/nltk/nltk_data/gh-pages/index.xml\n"
     ]
    }
   ],
   "source": [
    "import nltk\n",
    "import warnings\n",
    "warnings.filterwarnings(\"ignore\")\n",
    "nltk.download()\n",
    "import numpy as np\n",
    "import random\n",
    "import string # to process standard python strings\n"
   ]
  },
  {
   "cell_type": "code",
   "execution_count": 2,
   "id": "8aa91530",
   "metadata": {},
   "outputs": [],
   "source": [
    "# For our example,we will be using the Wikipedia page for chatbots as our corpus.\n",
    "# Copy the contents from the page and place it in a text file named ‘chatbot.txt’.\n",
    "# However, you can use any corpus of your choice.\n",
    "# We will read in the corpus.txt file\n",
    "f=open('/home/yassine/Desktop/chatbot1.txt','r',errors = 'ignore')\n",
    "raw=f.read()\n",
    "raw=raw.lower()# converts to lowercase"
   ]
  },
  {
   "cell_type": "code",
   "execution_count": 3,
   "id": "802445a3",
   "metadata": {},
   "outputs": [
    {
     "name": "stderr",
     "output_type": "stream",
     "text": [
      "[nltk_data] Downloading package punkt to /home/yassine/nltk_data...\n",
      "[nltk_data]   Package punkt is already up-to-date!\n",
      "[nltk_data] Downloading package wordnet to /home/yassine/nltk_data...\n",
      "[nltk_data]   Package wordnet is already up-to-date!\n"
     ]
    },
    {
     "data": {
      "text/plain": [
       "['tunisia', 'the', 'republic', 'of', 'tunisia']"
      ]
     },
     "execution_count": 3,
     "metadata": {},
     "output_type": "execute_result"
    }
   ],
   "source": [
    "nltk.download('punkt') # first-time use only\n",
    "nltk.download('wordnet') # first-time use only\n",
    "\n",
    "# convert the entire corpus into a list of sentences and a list of words for further pre-processing\n",
    "sent_tokens = nltk.sent_tokenize(raw)# converts to list of sentences\n",
    "word_tokens = nltk.word_tokenize(raw)# converts to list of words\n",
    "\n",
    "sent_tokens[:2]\n",
    "word_tokens[:5]\n",
    "\n",
    "sent_tokens[0]\n",
    "\n",
    "word_tokens[:5]"
   ]
  },
  {
   "cell_type": "code",
   "execution_count": 4,
   "id": "0924fffd",
   "metadata": {},
   "outputs": [],
   "source": [
    "#WordNet is a semantically-oriented dictionary of English included in NLTK.\n",
    "lemmer = nltk.stem.WordNetLemmatizer()\n",
    "\n",
    "# LemTokens will take as input the tokens and return normalized tokens.\n",
    "def LemTokens(tokens):\n",
    "   return [lemmer.lemmatize(token) for token in tokens]\n",
    "\n",
    "\n",
    "remove_punct_dict = dict((ord(punct), None) for punct in string.punctuation)\n",
    "def LemNormalize(text):\n",
    "   return LemTokens(nltk.word_tokenize(text.lower().translate(remove_punct_dict)))"
   ]
  },
  {
   "cell_type": "code",
   "execution_count": 5,
   "id": "367bb3cd",
   "metadata": {},
   "outputs": [],
   "source": [
    "GREETING_INPUTS = (\"hello\", \"hi\", \"greetings\", \"sup\", \"what's up\",\"hey\",)\n",
    "GREETING_RESPONSES = [\"hi\", \"hey\", \"*nods*\", \"hi there\", \"hello\", \"I am glad! You are talking to me\"]\n",
    "\n",
    "# Checking for greetings\n",
    "# define a function for a greeting by the bot i.e if a user’s input is a greeting,\n",
    "# the bot shall return a greeting response.\n",
    "def greeting(sentence):\n",
    "   \"\"\"If user's input is a greeting, return a greeting response\"\"\"\n",
    "   for word in sentence.split():\n",
    "       if word.lower() in GREETING_INPUTS:\n",
    "           return random.choice(GREETING_RESPONSES)\n"
   ]
  },
  {
   "cell_type": "code",
   "execution_count": 6,
   "id": "48cad736",
   "metadata": {},
   "outputs": [],
   "source": [
    "# the words need to be encoded as integers or floating point values\n",
    "# for use as input to a machine learning algorithm, called feature extraction (or vectorization).\n",
    "from sklearn.feature_extraction.text import TfidfVectorizer\n",
    "\n",
    "# find the similarity between words entered by the user and the words in the corpus.\n",
    "# This is the simplest possible implementation of a chatbot.\n",
    "from sklearn.metrics.pairwise import cosine_similarity\n",
    "\n"
   ]
  },
  {
   "cell_type": "code",
   "execution_count": 7,
   "id": "b0c43cd1",
   "metadata": {},
   "outputs": [],
   "source": [
    "# Generating response\n",
    "# define a function response which searches the user’s utterance for one or more known keywords\n",
    "# and returns one of several possible responses. If it doesn’t find the input matching any of the keywords,\n",
    "# it returns a response:” I am sorry! I don’t understand you”\n",
    "def response(user_response):\n",
    "   robo_response=''\n",
    "   sent_tokens.append(user_response)\n",
    "  \n",
    "   # TF-IDF are word frequency scores that try to highlight words that are more interesting,\n",
    "   # e.g. frequent in a document but not across documents.\n",
    "   # The TfidfVectorizer will tokenize documents, learn the vocabulary and\n",
    "   # inverse document frequency weightings, and allow you to encode new documents.\n",
    "   TfidfVec = TfidfVectorizer(tokenizer=LemNormalize, stop_words='english')\n",
    "\n",
    "   # Learn vocabulary and idf, return term-document matrix\n",
    "   # Returns X : Tf-idf-weighted sparse matrix, [n_samples, n_features] \n",
    "   tfidf = TfidfVec.fit_transform(sent_tokens)\n",
    "   # print (tfidf.shape)\n",
    "  \n",
    "   # Cosine similarity is a measure of similarity between two non-zero vectors.\n",
    "   # Using this formula we can find out the similarity between any two documents d1 and d2.\n",
    "   # Cosine Similarity (d1, d2) =  Dot product(d1, d2) / ||d1|| * ||d2||\n",
    "   vals = cosine_similarity(tfidf[-1], tfidf)\n",
    "  \n",
    "  \n",
    "   # function is used to perform an indirect sort along the given axis using the algorithm\n",
    "   # specified by the kind keyword. It returns an array of indices of the same shape as arr\n",
    "   # that would sort the array.\n",
    "   idx=vals.argsort()[0][-2]\n",
    "  \n",
    "   # Returns a new array that is a one-dimensional flattening of this array (recursively).\n",
    "   # That is, for every element that is an array, extract its elements into the new array.\n",
    "   # If the optional level argument determines the level of recursion to flatten.\n",
    "   flat = vals.flatten()\n",
    "  \n",
    "   flat.sort()\n",
    "   req_tfidf = flat[-2]\n",
    "\n",
    "   if(req_tfidf==0):\n",
    "       robo_response=robo_response+\"I am sorry! I don't understand you\"\n",
    "       return robo_response\n",
    "   else:\n",
    "       robo_response = robo_response+sent_tokens[idx]\n",
    "       return robo_response\n"
   ]
  },
  {
   "cell_type": "code",
   "execution_count": 11,
   "id": "afa8d86c",
   "metadata": {},
   "outputs": [
    {
     "name": "stdout",
     "output_type": "stream",
     "text": [
      "ROBO: My name is Chatty. I will answer your queries about Chatbots. If you want to exit, type Bye!\n",
      "hello\n",
      "ROBO: hello\n",
      "describe tunisia ?\n",
      "ROBO: tunisia\n",
      "the republic of tunisia is the northernmost african country and is bordered by algeria, libya, and the mediterranean sea.\n",
      "what is the capital of tunisia ?\n",
      "ROBO: tunis is the capital and is in the north-east part of the country.\n",
      "about about the language\n",
      "ROBO: there are a few speakers of berber languages.\n",
      "the population then ?\n",
      "ROBO: it has a population of just over 11.78 million and an area of 165,000 sq.\n",
      "do tunisia have desert ?\n",
      "ROBO: the steppes are inland from the sahil and are mostly desert and semi-arid.\n",
      "okay describe sport in tunisia ?\n",
      "ROBO: sports\n",
      "football is the most popular sport and the national team has participated in four world cup tournaments, but has never left the 1st round.\n",
      "did a revolution happen it tunisia ?\n",
      "ROBO: in 2011, ben ali was forced to flee the country after the tunisian revolution.\n",
      "are tunisian muslim ?\n",
      "ROBO: at least 99 percent of tunisians are muslim, and one percent are christians.\n",
      "efhehe\n",
      "ROBO: I am sorry! I don't understand you\n",
      "describe education in tunisia\n",
      "ROBO: education\n",
      "tunisia places a high value on education and it accounts for 6.2 percent of gdp.\n",
      "major cities in tunisa\n",
      "ROBO: major cities\n",
      "tunis is the capital and largest city.\n",
      "how many region tunisia have\n",
      "ROBO: regions & cities\n",
      "the country is divided into 24 governorates.\n",
      "ok bye\n",
      "ROBO: I am sorry! I don't understand you\n",
      "bye\n",
      "ROBO: Bye! take care..\n"
     ]
    }
   ],
   "source": [
    "flag=True\n",
    "print(\"ROBO: My name is Chatty. I will answer your queries about Chatbots. If you want to exit, type Bye!\")\n",
    "\n",
    "while(flag==True):\n",
    "   user_response = input()\n",
    "   user_response=user_response.lower()\n",
    "   if(user_response!='bye'):\n",
    "       if(user_response=='thanks' or user_response=='thank you' ):\n",
    "           flag=False\n",
    "           print(\"ROBO: You are welcome..\")\n",
    "       else:\n",
    "           if(greeting(user_response)!=None):\n",
    "               print(\"ROBO: \"+greeting(user_response))\n",
    "           else:\n",
    "               print(\"ROBO: \",end=\"\")\n",
    "               print(response(user_response))\n",
    "               sent_tokens.remove(user_response)\n",
    "   else:\n",
    "       flag=False\n",
    "       print(\"ROBO: Bye! take care..\")   \n",
    "\n",
    "\n"
   ]
  },
  {
   "cell_type": "code",
   "execution_count": null,
   "id": "78b8dccc",
   "metadata": {},
   "outputs": [],
   "source": []
  }
 ],
 "metadata": {
  "kernelspec": {
   "display_name": "Python 3 (ipykernel)",
   "language": "python",
   "name": "python3"
  },
  "language_info": {
   "codemirror_mode": {
    "name": "ipython",
    "version": 3
   },
   "file_extension": ".py",
   "mimetype": "text/x-python",
   "name": "python",
   "nbconvert_exporter": "python",
   "pygments_lexer": "ipython3",
   "version": "3.9.7"
  }
 },
 "nbformat": 4,
 "nbformat_minor": 5
}
